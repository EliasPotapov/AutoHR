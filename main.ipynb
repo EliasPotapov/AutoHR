{
 "cells": [
  {
   "cell_type": "code",
   "execution_count": 1,
   "metadata": {
    "collapsed": true
   },
   "outputs": [],
   "source": [
    "import pandas as pd\n",
    "import numpy as np\n",
    "\n",
    "from bs4 import BeautifulSoup\n",
    "\n",
    "from selenium import webdriver\n",
    "from tqdm import notebook\n",
    "from selenium.webdriver.common.keys import Keys\n",
    "from selenium.webdriver.chrome.service import Service\n",
    "from webdriver_manager.chrome import ChromeDriverManager\n",
    "from selenium.webdriver.common.by import By"
   ]
  },
  {
   "cell_type": "code",
   "source": [
    "FDorUSD = [r'функциональн.+ диагностик.+', ' фд ', 'узи', 'ультразвук', 'ультразвуковая диагностика']\n",
    "SKILLS = ['ЭНМГ', 'электронейромиограф', 'электромиограф', 'узи нервов', 'узи бца', 'узи брахиоцефальных артертий', 'дуплекс']"
   ],
   "metadata": {
    "collapsed": false,
    "pycharm": {
     "name": "#%%\n"
    }
   },
   "execution_count": 2,
   "outputs": []
  },
  {
   "cell_type": "code",
   "execution_count": 3,
   "outputs": [],
   "source": [
    "def get_doctors():\n",
    "    doctors = []\n",
    "    for page in notebook.tqdm(range(21,41)):\n",
    "        url = 'https://prodoctorov.ru/spb/nevrolog/?page=' + str(page)\n",
    "        options = webdriver.ChromeOptions()\n",
    "        options.add_argument('--ignore-certificate-errors')\n",
    "        options.add_argument('--incognito')\n",
    "        options.add_argument('--headless')\n",
    "\n",
    "        driver = webdriver.Safari()\n",
    "        driver.get(url)\n",
    "        html = driver.execute_script(\"return document.documentElement.outerHTML;\")\n",
    "\n",
    "        soup = BeautifulSoup(html, 'html.parser')\n",
    "\n",
    "        links = soup.find_all('a', {\"class\": \"b-doctor-card__name-link\"})\n",
    "        for l in links:\n",
    "            href = l.get('href')\n",
    "            dr_url = 'https://prodoctorov.ru' + href\n",
    "            driver.get(dr_url)\n",
    "            dr_html = driver.execute_script(\"return document.documentElement.outerHTML;\")\n",
    "            dr_soup = BeautifulSoup(dr_html, 'html.parser')\n",
    "\n",
    "            doctor = {'link': dr_url}\n",
    "\n",
    "            try:\n",
    "                doctor['name'] = \" \".join(dr_soup.find_all('span',\n",
    "                                                           {\"itemprop\": \"name\", \"class\": \"d-block ui-text ui-text_h5 ui-text_color_black mb-2\"})[0].contents[0].split())\n",
    "            except IndexError:\n",
    "                pass\n",
    "\n",
    "            try:\n",
    "                doctor['about'] = [\" \".join(x.contents[0].split()) for x in dr_soup.find_all('div', {\"class\": \"b-doctor-details__paragraph\"})]\n",
    "            except IndexError:\n",
    "               pass\n",
    "\n",
    "            try:\n",
    "                doctor['profile'] = [x.contents[0] for x in dr_soup.find_all('a', {\"class\": \"b-doctor-details__link b-doctor-details__link_column\"})]\n",
    "            except IndexError:\n",
    "                pass\n",
    "\n",
    "            try:\n",
    "                courses = dr_soup.find_all('div', {\"id\": \"courses\"})[0]\n",
    "                years = [x.contents[0] for x in courses.find_all('div', {\"class\": \"b-doctor-details__number\"})]\n",
    "                course_names = [x.contents[0] for x in courses.find_all('div', {\"class\": \"b-doctor-details__list-item-title\"})]\n",
    "                courses_text = [x + ' (' + y + ')' for x, y in zip(course_names, years)]\n",
    "\n",
    "                doctor['courses'] = courses_text\n",
    "            except IndexError:\n",
    "                pass\n",
    "\n",
    "            try:\n",
    "                edu = dr_soup.find_all('div', {\"id\": \"educations\"})[0]\n",
    "                edu_years = [x.contents[0] for x in edu.find_all('div', {\"class\": \"b-doctor-details__number\"})]\n",
    "                edu_names = [\" \".join(x.contents[0].split()) for x in edu.find_all('div', {\"class\": \"b-doctor-details__list-item-title\"})]\n",
    "                edu_text = [x + ' (' + y + ')' for x, y in zip(edu_names, edu_years)]\n",
    "                doctor['education'] = edu_text\n",
    "            except IndexError:\n",
    "                pass\n",
    "\n",
    "            doctors.append(doctor)\n",
    "        driver.close()\n",
    "\n",
    "    return(doctors)\n",
    "\n",
    "def get_doctor_features(row):\n",
    "    try:\n",
    "        education = [x.lower() for x in row['education']]\n",
    "        courses = [x.lower() for x in row['courses']]\n",
    "        about = [x.lower() for x in row['about']]\n",
    "\n",
    "        edu_matches = [s for s in row['education'] if any(xs in s for xs in FDorUSD)]\n",
    "        row['relevant_education'] = edu_matches\n",
    "\n",
    "        skills_matches = [s for s in row['courses'] if any(xs in s for xs in SKILLS)] + [s for s in about if any(xs in s for xs in SKILLS)]\n",
    "        row['relevant_skills'] = skills_matches\n",
    "    except TypeError:\n",
    "        pass\n",
    "\n",
    "    return(row)"
   ],
   "metadata": {
    "collapsed": false,
    "pycharm": {
     "name": "#%%\n"
    }
   }
  },
  {
   "cell_type": "code",
   "execution_count": null,
   "outputs": [
    {
     "data": {
      "text/plain": "  0%|          | 0/20 [00:00<?, ?it/s]",
      "application/vnd.jupyter.widget-view+json": {
       "version_major": 2,
       "version_minor": 0,
       "model_id": "535444a5126a4130ade078a4e1d1aec5"
      }
     },
     "metadata": {},
     "output_type": "display_data"
    }
   ],
   "source": [
    "drs = get_doctors()"
   ],
   "metadata": {
    "collapsed": false,
    "pycharm": {
     "name": "#%%\n",
     "is_executing": true
    }
   }
  },
  {
   "cell_type": "code",
   "execution_count": null,
   "outputs": [],
   "source": [
    "df = pd.DataFrame(drs)\n",
    "df = df.fillna('')\n",
    "df['relevant_education'] = ''\n",
    "df['relevant_skills'] = ''\n",
    "\n",
    "df = df.apply(get_doctor_features, axis=1)"
   ],
   "metadata": {
    "collapsed": false,
    "pycharm": {
     "name": "#%%\n",
     "is_executing": true
    }
   }
  },
  {
   "cell_type": "code",
   "execution_count": null,
   "outputs": [],
   "source": [
    "for column in ['about', 'profile', 'education', 'courses', 'matching_education', 'matching_skills']:\n",
    "    df[column] = df[column].apply(lambda x: \"; \".join(x) if not len(x)==0 else '')\n",
    "\n",
    "df = df.query('matching_education != \"\" or matching_skills != \"\"')\n",
    "df.to_excel('neuros2.xlsx', index=False)"
   ],
   "metadata": {
    "collapsed": false,
    "pycharm": {
     "name": "#%%\n",
     "is_executing": true
    }
   }
  },
  {
   "cell_type": "code",
   "execution_count": null,
   "outputs": [],
   "source": [],
   "metadata": {
    "collapsed": false,
    "pycharm": {
     "name": "#%%\n",
     "is_executing": true
    }
   }
  }
 ],
 "metadata": {
  "kernelspec": {
   "display_name": "Python 3",
   "language": "python",
   "name": "python3"
  },
  "language_info": {
   "codemirror_mode": {
    "name": "ipython",
    "version": 2
   },
   "file_extension": ".py",
   "mimetype": "text/x-python",
   "name": "python",
   "nbconvert_exporter": "python",
   "pygments_lexer": "ipython2",
   "version": "2.7.6"
  }
 },
 "nbformat": 4,
 "nbformat_minor": 0
}
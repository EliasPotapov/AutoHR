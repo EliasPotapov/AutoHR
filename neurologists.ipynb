{
 "cells": [
  {
   "cell_type": "markdown",
   "source": [
    "### Поиск врачей-неврологов, владеющих навыками функциональной диагностики в неврологии"
   ],
   "metadata": {
    "collapsed": false
   }
  },
  {
   "cell_type": "markdown",
   "source": [
    "Этот небольшой проект призван помочь в решении важной задачи по подбору персонала для медицинской клиники.\n",
    "Необходимо проанализировать специалистов-неврологов, которые ведут прием в г. Санкт-Петербурге, и выделить врачей, которые владеют навыками функциональной и УЗИ-диагностики.\n",
    "Для анализа использовалась база данных prodoctorov.\n",
    "\n",
    "В проекте есть три основных компонента:\n",
    "1. Веб-скрейпинг, реализованный посредством пакета selenium\n",
    "2. Извлечение содержимого html-страницы посредством BeautifulSoup.\n",
    "3. Поиск по ключевым словам в анкете врача с вынесением якорных фраз в отдельный столбец для дальнейшего анализа HR."
   ],
   "metadata": {
    "collapsed": false
   }
  },
  {
   "cell_type": "code",
   "execution_count": 24,
   "metadata": {
    "collapsed": true
   },
   "outputs": [],
   "source": [
    "import pandas as pd\n",
    "import numpy as np\n",
    "\n",
    "import random\n",
    "from time import sleep\n",
    "\n",
    "from bs4 import BeautifulSoup\n",
    "\n",
    "from selenium import webdriver\n",
    "from tqdm import notebook"
   ]
  },
  {
   "cell_type": "markdown",
   "source": [
    "### Определение ключевых слов\n",
    "В финале будут использоваться два параметра - наличие сертификата пройденного обучения по специальностям \"функциональная диагностика\" или \"УЗИ-диагностика\", а также конкретные навыки."
   ],
   "metadata": {
    "collapsed": false
   }
  },
  {
   "cell_type": "code",
   "source": [
    "FDorUSD = [r'функциональн.+ диагностик.+', ' фд ', 'узи', 'ультразвук', 'ультразвуковая диагностика']\n",
    "SKILLS = ['ЭНМГ', 'электронейромиограф', 'электромиограф', 'узи нервов', 'узи бца', 'узи брахиоцефальных артертий', 'дуплекс']"
   ],
   "metadata": {
    "collapsed": false,
    "pycharm": {
     "name": "#%%\n"
    }
   },
   "execution_count": 25,
   "outputs": []
  },
  {
   "cell_type": "markdown",
   "source": [
    "### Функции скрейпинга и поиска ключевых слов\n",
    "\n",
    "Функция get_doctors() отправляет запрос к каждой из 104 страниц списка врачей-неврологов г. Санкт-Петербурга.\n",
    "В тексте страницы определяются все ссылки, ведущие на профиль врача.\n",
    "После этого бот переходит по каждой из этих ссылок, собирая информацию в soup-объект.\n",
    "Этот объект далее парсится по  5 параметрам: ФИО, профили работы, текст \"Доктор о себе\", список курсов повышения квалификации, и перечень этапов основного образования.\n",
    "\n",
    "Функция get_doctor_features используется в методе apply на сформированном датасете, и извлекает для каждой строчки ключевые слова в целевых полях."
   ],
   "metadata": {
    "collapsed": false
   }
  },
  {
   "cell_type": "code",
   "execution_count": 26,
   "outputs": [],
   "source": [
    "def get_doctors():\n",
    "    doctors = []\n",
    "    for page in notebook.tqdm(range(1,105)):\n",
    "        url = 'https://prodoctorov.ru/spb/nevrolog/?page=' + str(page)\n",
    "\n",
    "        driver = webdriver.Safari()\n",
    "        driver.get(url)\n",
    "        html = driver.execute_script(\"return document.documentElement.outerHTML;\")\n",
    "\n",
    "        soup = BeautifulSoup(html, 'html.parser')\n",
    "\n",
    "        links = soup.find_all('a', {\"class\": \"b-doctor-card__name-link\"})\n",
    "        for l in links:\n",
    "            href = l.get('href')\n",
    "            dr_url = 'https://prodoctorov.ru' + href\n",
    "            driver.get(dr_url)\n",
    "            dr_html = driver.execute_script(\"return document.documentElement.outerHTML;\")\n",
    "            dr_soup = BeautifulSoup(dr_html, 'html.parser')\n",
    "\n",
    "            doctor = {'link': dr_url}\n",
    "\n",
    "            try:\n",
    "                doctor['name'] = \" \".join(dr_soup.find_all('span',\n",
    "                                                           {\"itemprop\": \"name\", \"class\": \"d-block ui-text ui-text_h5 ui-text_color_black mb-2\"})[0].contents[0].split())\n",
    "            except IndexError:\n",
    "                pass\n",
    "\n",
    "            try:\n",
    "                doctor['about'] = [\" \".join(x.contents[0].split()) for x in dr_soup.find_all('div', {\"class\": \"b-doctor-details__paragraph\"})]\n",
    "            except IndexError:\n",
    "               pass\n",
    "\n",
    "            try:\n",
    "                doctor['profile'] = [x.contents[0] for x in dr_soup.find_all('a', {\"class\": \"b-doctor-details__link b-doctor-details__link_column\"})]\n",
    "            except IndexError:\n",
    "                pass\n",
    "\n",
    "            try:\n",
    "                courses = dr_soup.find_all('div', {\"id\": \"courses\"})[0]\n",
    "                years = [x.contents[0] for x in courses.find_all('div', {\"class\": \"b-doctor-details__number\"})]\n",
    "                course_names = [x.contents[0] for x in courses.find_all('div', {\"class\": \"b-doctor-details__list-item-title\"})]\n",
    "                courses_text = [x + ' (' + y + ')' for x, y in zip(course_names, years)]\n",
    "\n",
    "                doctor['courses'] = courses_text\n",
    "            except IndexError:\n",
    "                pass\n",
    "\n",
    "            try:\n",
    "                edu = dr_soup.find_all('div', {\"id\": \"educations\"})[0]\n",
    "                edu_years = [x.contents[0] for x in edu.find_all('div', {\"class\": \"b-doctor-details__number\"})]\n",
    "                edu_names = [\" \".join(x.contents[0].split()) for x in edu.find_all('div', {\"class\": \"b-doctor-details__list-item-title\"})]\n",
    "                edu_text = [x + ' (' + y + ')' for x, y in zip(edu_names, edu_years)]\n",
    "                doctor['education'] = edu_text\n",
    "            except IndexError:\n",
    "                pass\n",
    "\n",
    "            doctors.append(doctor)\n",
    "            time.sleep(random.uniform(0, 2))\n",
    "        driver.close()\n",
    "\n",
    "    return(doctors)\n",
    "\n",
    "def get_doctor_features(row):\n",
    "    try:\n",
    "        education = [x.lower() for x in row['education']]\n",
    "        courses = [x.lower() for x in row['courses']]\n",
    "        about = [x.lower() for x in row['about']]\n",
    "\n",
    "        edu_matches = [s for s in row['education'] if any(xs in s for xs in FDorUSD)]\n",
    "        row['relevant_education'] = edu_matches\n",
    "\n",
    "        skills_matches = [s for s in row['courses'] if any(xs in s for xs in SKILLS)] + [s for s in about if any(xs in s for xs in SKILLS)]\n",
    "        row['relevant_skills'] = skills_matches\n",
    "    except TypeError:\n",
    "        pass\n",
    "\n",
    "    return(row)"
   ],
   "metadata": {
    "collapsed": false,
    "pycharm": {
     "name": "#%%\n"
    }
   }
  },
  {
   "cell_type": "code",
   "execution_count": null,
   "outputs": [
    {
     "data": {
      "text/plain": "  0%|          | 0/104 [00:00<?, ?it/s]",
      "application/vnd.jupyter.widget-view+json": {
       "version_major": 2,
       "version_minor": 0,
       "model_id": "96934bbf086f433d868885988ec46adc"
      }
     },
     "metadata": {},
     "output_type": "display_data"
    }
   ],
   "source": [
    "drs = get_doctors()"
   ],
   "metadata": {
    "collapsed": false,
    "pycharm": {
     "name": "#%%\n",
     "is_executing": true
    }
   }
  },
  {
   "cell_type": "markdown",
   "source": [
    "### Создание человеко-понятной плоской структуры (DataFrame)"
   ],
   "metadata": {
    "collapsed": false
   }
  },
  {
   "cell_type": "code",
   "execution_count": 28,
   "outputs": [],
   "source": [
    "df = pd.DataFrame(drs)\n",
    "df = df.fillna('')\n",
    "df['relevant_education'] = ''\n",
    "df['relevant_skills'] = ''\n",
    "\n",
    "df = df.apply(get_doctor_features, axis=1)"
   ],
   "metadata": {
    "collapsed": false,
    "pycharm": {
     "name": "#%%\n"
    }
   }
  },
  {
   "cell_type": "code",
   "execution_count": 36,
   "outputs": [],
   "source": [
    "# превращение списков в текст для облегчения чтения таблицы человеком\n",
    "for column in ['about', 'profile', 'education', 'courses', 'relevant_education', 'relevant_skills']:\n",
    "    df[column] = df[column].apply(lambda x: \"; \".join(x) if not len(x)==0 else '')\n",
    "\n",
    "# очищение датасета от строк, в которых не нашлось нужных ключевых слов ни по одному из параметров\n",
    "df = df.query('relevant_education != \"\" or relevant_skills != \"\"')\n",
    "\n",
    "#выгрузка файла в excel\n",
    "df.to_excel('neuros.xlsx', index=False)"
   ],
   "metadata": {
    "collapsed": false,
    "pycharm": {
     "name": "#%%\n"
    }
   }
  }
 ],
 "metadata": {
  "kernelspec": {
   "display_name": "Python 3",
   "language": "python",
   "name": "python3"
  },
  "language_info": {
   "codemirror_mode": {
    "name": "ipython",
    "version": 2
   },
   "file_extension": ".py",
   "mimetype": "text/x-python",
   "name": "python",
   "nbconvert_exporter": "python",
   "pygments_lexer": "ipython2",
   "version": "2.7.6"
  }
 },
 "nbformat": 4,
 "nbformat_minor": 0
}